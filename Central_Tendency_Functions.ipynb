{
  "nbformat": 4,
  "nbformat_minor": 0,
  "metadata": {
    "colab": {
      "provenance": [],
      "authorship_tag": "ABX9TyMIotqf/f3HRFc2lFPpgvdB",
      "include_colab_link": true
    },
    "kernelspec": {
      "name": "python3",
      "display_name": "Python 3"
    },
    "language_info": {
      "name": "python"
    }
  },
  "cells": [
    {
      "cell_type": "markdown",
      "metadata": {
        "id": "view-in-github",
        "colab_type": "text"
      },
      "source": [
        "<a href=\"https://colab.research.google.com/github/uday-routhu/ds-fundamentals-notebooks/blob/masster/Central_Tendency_Functions.ipynb\" target=\"_parent\"><img src=\"https://colab.research.google.com/assets/colab-badge.svg\" alt=\"Open In Colab\"/></a>"
      ]
    },
    {
      "cell_type": "code",
      "execution_count": 3,
      "metadata": {
        "id": "gqLEUzedoLxU"
      },
      "outputs": [],
      "source": [
        "Central Tendency Functions\n",
        "\n",
        "     Author: udayakumar Routhu"
      ]
    },
    {
      "cell_type": "code",
      "source": [
        "week_1 = [45, 55, 49, 60, 52, 55, 58]\n",
        "week_2 = [51, 49, 62, 50, 53, 56, 59]\n",
        "week_3 = [60, 60, 61, 62, 57, 59, 58]\n",
        "week_4 = [59, 63, 62, 61, 65, 66, 62]"
      ],
      "metadata": {
        "id": "NQgMh9PKuyDx"
      },
      "execution_count": 4,
      "outputs": []
    },
    {
      "cell_type": "code",
      "source": [
        "import statistics\n"
      ],
      "metadata": {
        "id": "JyE6hEV2omeH"
      },
      "execution_count": 5,
      "outputs": []
    },
    {
      "cell_type": "code",
      "source": [
        "mean = statistics.mean(week_1)\n",
        "median = statistics.median(week_1)\n",
        "mode = statistics.mode(week_1)"
      ],
      "metadata": {
        "id": "JL4-hAbftDAj"
      },
      "execution_count": 6,
      "outputs": []
    },
    {
      "cell_type": "code",
      "source": [
        "def central_tendency(temprature):\n",
        "  mean_temp = statistics.mean(temprature)\n",
        "  median_temp = statistics.median(temprature)\n",
        "  mode_temp = statistics.mode(temprature)\n",
        "  return mean_temp, median_temp, mode"
      ],
      "metadata": {
        "id": "ONk6gdurtK_T"
      },
      "execution_count": 7,
      "outputs": []
    },
    {
      "cell_type": "code",
      "source": [
        "central_tendency(week_1)"
      ],
      "metadata": {
        "colab": {
          "base_uri": "https://localhost:8080/"
        },
        "id": "4cSGHS-etS_M",
        "outputId": "73daa8e2-18f0-4144-911f-22169463b91d"
      },
      "execution_count": 8,
      "outputs": [
        {
          "output_type": "execute_result",
          "data": {
            "text/plain": [
              "(53.42857142857143, 55, 55)"
            ]
          },
          "metadata": {},
          "execution_count": 8
        }
      ]
    },
    {
      "cell_type": "code",
      "source": [
        "def central_tendency(temprature,verbose=True):\n",
        "  mean_temp = statistics.mean(temprature)\n",
        "  median_temp = statistics.median(temprature)\n",
        "  mode_temp = statistics.mode(temprature)\n",
        "  if verbose == True:\n",
        "    print(f\"The mean is {mean_temp}\")\n",
        "    print(f\"The median is {median_temp}\")\n",
        "    print(f\"The mode is {mode_temp}\")\n",
        "  return mean_temp, median_temp, mode\n"
      ],
      "metadata": {
        "id": "3TMndm6hp83h"
      },
      "execution_count": 9,
      "outputs": []
    },
    {
      "cell_type": "code",
      "source": [
        "#Call function With \"verbose = True\" included as the second argument in the function call.\n",
        "central_tendency(week_2,True)\n"
      ],
      "metadata": {
        "colab": {
          "base_uri": "https://localhost:8080/"
        },
        "id": "iOVW8laXs5DW",
        "outputId": "c38dfc2d-5b12-4008-828f-4e6e336dbc06"
      },
      "execution_count": 10,
      "outputs": [
        {
          "output_type": "stream",
          "name": "stdout",
          "text": [
            "The mean is 54.285714285714285\n",
            "The median is 53\n",
            "The mode is 51\n"
          ]
        },
        {
          "output_type": "execute_result",
          "data": {
            "text/plain": [
              "(54.285714285714285, 53, 55)"
            ]
          },
          "metadata": {},
          "execution_count": 10
        }
      ]
    },
    {
      "cell_type": "code",
      "source": [
        "#With no argument for verbose included in the functional call (to test the default).\n",
        "central_tendency(week_2)"
      ],
      "metadata": {
        "colab": {
          "base_uri": "https://localhost:8080/"
        },
        "id": "mdk_qFhuiCkX",
        "outputId": "7c9fe013-c46f-44c1-9514-345c50015eb7"
      },
      "execution_count": 11,
      "outputs": [
        {
          "output_type": "stream",
          "name": "stdout",
          "text": [
            "The mean is 54.285714285714285\n",
            "The median is 53\n",
            "The mode is 51\n"
          ]
        },
        {
          "output_type": "execute_result",
          "data": {
            "text/plain": [
              "(54.285714285714285, 53, 55)"
            ]
          },
          "metadata": {},
          "execution_count": 11
        }
      ]
    },
    {
      "cell_type": "code",
      "source": [
        "#With \"verbose = False\" included as the second argument in the function call\n",
        "central_tendency(week_2, False)"
      ],
      "metadata": {
        "colab": {
          "base_uri": "https://localhost:8080/"
        },
        "id": "lQukX2igiPKp",
        "outputId": "4e38ac88-3fb0-4ddc-d48b-dfd9c050d621"
      },
      "execution_count": 12,
      "outputs": [
        {
          "output_type": "execute_result",
          "data": {
            "text/plain": [
              "(54.285714285714285, 53, 55)"
            ]
          },
          "metadata": {},
          "execution_count": 12
        }
      ]
    }
  ]
}