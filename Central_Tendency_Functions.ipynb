{
  "nbformat": 4,
  "nbformat_minor": 0,
  "metadata": {
    "colab": {
      "provenance": [],
      "authorship_tag": "ABX9TyP9te8Y3ZNZ+cDBcv6XD2lD",
      "include_colab_link": true
    },
    "kernelspec": {
      "name": "python3",
      "display_name": "Python 3"
    },
    "language_info": {
      "name": "python"
    }
  },
  "cells": [
    {
      "cell_type": "markdown",
      "metadata": {
        "id": "view-in-github",
        "colab_type": "text"
      },
      "source": [
        "<a href=\"https://colab.research.google.com/github/uday-routhu/ds-fundamentals-notebooks/blob/masster/Central_Tendency_Functions.ipynb\" target=\"_parent\"><img src=\"https://colab.research.google.com/assets/colab-badge.svg\" alt=\"Open In Colab\"/></a>"
      ]
    },
    {
      "cell_type": "code",
      "execution_count": 3,
      "metadata": {
        "id": "gqLEUzedoLxU"
      },
      "outputs": [],
      "source": [
        "Author: udayakumar Routhu"
      ]
    },
    {
      "cell_type": "code",
      "source": [
        "week_1 = [45, 55, 49, 60, 52, 55, 58]\n",
        "week_2 = [51, 49, 62, 50, 53, 56, 59]\n",
        "week_3 = [60, 60, 61, 62, 57, 59, 58]\n",
        "week_4 = [59, 63, 62, 61, 65, 66, 62]"
      ],
      "metadata": {
        "id": "NQgMh9PKuyDx"
      },
      "execution_count": null,
      "outputs": []
    },
    {
      "cell_type": "code",
      "source": [
        "import statistics\n"
      ],
      "metadata": {
        "id": "JyE6hEV2omeH"
      },
      "execution_count": 7,
      "outputs": []
    },
    {
      "cell_type": "code",
      "source": [
        "mean = statistics.mean(week_1)\n",
        "median = statistics.median(week_1)\n",
        "mode = statistics.mode(week_1)"
      ],
      "metadata": {
        "id": "JL4-hAbftDAj"
      },
      "execution_count": 12,
      "outputs": []
    },
    {
      "cell_type": "code",
      "source": [
        "def central_tendency(temprature):\n",
        "  mean_temp = statistics.mean(temprature)\n",
        "  median_temp = statistics.median(temprature)\n",
        "  mode_temp = statistics.mode(temprature)\n",
        "  return mean_temp, median_temp, mode"
      ],
      "metadata": {
        "id": "ONk6gdurtK_T"
      },
      "execution_count": 15,
      "outputs": []
    },
    {
      "cell_type": "code",
      "source": [
        "print(central_tendency(week_1))"
      ],
      "metadata": {
        "colab": {
          "base_uri": "https://localhost:8080/"
        },
        "id": "4cSGHS-etS_M",
        "outputId": "6e19bec1-1508-4391-aeab-76f2f33fb385"
      },
      "execution_count": 16,
      "outputs": [
        {
          "output_type": "stream",
          "name": "stdout",
          "text": [
            "(53.42857142857143, 55, 55)\n"
          ]
        }
      ]
    },
    {
      "cell_type": "code",
      "source": [
        "def central_tendency(temprature,verbose):\n",
        "  mean_temp = statistics.mean(temprature)\n",
        "  median_temp = statistics.median(temprature)\n",
        "  mode_temp = statistics.mode(temprature)\n",
        "  if verbose == True:\n",
        "    print(f\"The mean is {mean_temp}\")\n",
        "    print(f\"The median is {median_temp}\")\n",
        "    print(f\"The mode is {mode_temp}\")\n",
        "  return mean_temp, median_temp, mode\n",
        "\n",
        "\n"
      ],
      "metadata": {
        "id": "3TMndm6hp83h"
      },
      "execution_count": 18,
      "outputs": []
    },
    {
      "cell_type": "code",
      "source": [
        "print(central_tendency(week_2,True))\n",
        "print(central_tendency(week_2,False))"
      ],
      "metadata": {
        "colab": {
          "base_uri": "https://localhost:8080/"
        },
        "id": "iOVW8laXs5DW",
        "outputId": "c008f9f6-305a-4179-9c2d-bb4008fefc9f"
      },
      "execution_count": 20,
      "outputs": [
        {
          "output_type": "stream",
          "name": "stdout",
          "text": [
            "The mean is 54.285714285714285\n",
            "The median is 53\n",
            "The mode is 51\n",
            "(54.285714285714285, 53, 55)\n",
            "(54.285714285714285, 53, 55)\n"
          ]
        }
      ]
    }
  ]
}